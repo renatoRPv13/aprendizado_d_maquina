{
  "cells": [
    {
      "cell_type": "code",
      "execution_count": 8,
      "metadata": {
        "id": "QJ4Cnxms-PFN"
      },
      "outputs": [],
      "source": [
        "import sklearn\n",
        "import sys\n",
        "import pandas as pd\n",
        "import numpy as np\n",
        "from matplotlib import pyplot as plt\n",
        "assert sklearn.__version__ >='020'\n",
        "assert sys.version_info >= (3, 6)"
      ]
    },
    {
      "cell_type": "code",
      "source": [
        "from  google.colab import drive\n",
        "drive.mount('/content/drive')"
      ],
      "metadata": {
        "colab": {
          "base_uri": "https://localhost:8080/"
        },
        "id": "FX7I-LBnTpa8",
        "outputId": "dd4be65a-35b3-4370-c8ab-73d34e8139b5"
      },
      "execution_count": null,
      "outputs": [
        {
          "output_type": "stream",
          "name": "stdout",
          "text": [
            "Mounted at /content/drive\n"
          ]
        }
      ]
    },
    {
      "cell_type": "code",
      "source": [
        "from sklearn import svm\n",
        "svm_ies = pd.read_csv('https://raw.githubusercontent.com/renatoRPv13/aprendizado_d_maquina/main/ies_recursos_sem_nan_utf8.csv',index_col=0, encoding=\"latin-1\")\n",
        "set(svm_ies[\"TIPO_CATEGORIA_ADM\"])"
      ],
      "metadata": {
        "colab": {
          "base_uri": "https://localhost:8080/"
        },
        "id": "S2vh5vExUS_6",
        "outputId": "866c4fb6-89e9-4cce-8e3d-2958adc1c261"
      },
      "execution_count": null,
      "outputs": [
        {
          "output_type": "execute_result",
          "data": {
            "text/plain": [
              "{'Privada sem fins lucrativos', 'PÃºblica Estadual', 'PÃºblica Federal'}"
            ]
          },
          "metadata": {},
          "execution_count": 44
        }
      ]
    },
    {
      "cell_type": "code",
      "source": [
        "from sklearn import preprocessing\n",
        "from copy import deepcopy\n",
        "\n",
        "u = deepcopy(svm_ies)\n",
        "\n",
        "le = preprocessing.LabelEncoder()\n",
        "\n",
        "le.fit(svm_ies[\"TIPO_CATEGORIA_ADM\"])\n",
        "svm_ies[\"TIPO_CATEGORIA_ADM\"]=le.transform(svm_ies[\"TIPO_CATEGORIA_ADM\"])\n",
        "le_name_mapping_1 = dict(zip(le.classes_, le.transform(le.classes_)))\n",
        "\n",
        "def np_encoder(object):\n",
        "    if isinstance(object, np.generic):\n",
        "        return object.item()\n",
        "\n",
        "import json\n",
        "a = json.dumps(le_name_mapping_1, default=np_encoder, indent=True, ensure_ascii=False)\n",
        "\n",
        "ff = '{'\n",
        "ff += f'\\n\"TIPO_CATEGORIA_ADM\": [\\n{a}\\n]'\n",
        "ff += '\\n}'\n",
        "\n",
        "f = open(\"mapa_categorias.json\", \"w\")\n",
        "f.write(ff)\n",
        "f.close()\n",
        "\n",
        "svm_ies.to_csv(\"https://raw.githubusercontent.com/renatoRPv13/aprendizado_d_maquina/main/ies_recursos_sem_nan_utf8.csv\")\n",
        "\n",
        "svm_ies"
      ],
      "metadata": {
        "colab": {
          "base_uri": "https://localhost:8080/",
          "height": 519
        },
        "id": "Y46dXhzo_q4B",
        "outputId": "9ea06838-62da-40d7-9568-2d6aa0515ce0"
      },
      "execution_count": null,
      "outputs": [
        {
          "output_type": "execute_result",
          "data": {
            "text/plain": [
              "                    DEFICIENCIA_AUDITIVA    DEFICIENCIA_VISUAL  \\\n",
              "DEFICIENCIA_FISICA                                               \n",
              "5.1                                    3.5                 1.4   \n",
              "4.9                                    3.0                 1.4   \n",
              "4.7                                    3.2                 1.3   \n",
              "4.6                                    3.1                 1.5   \n",
              "5.0                                    3.6                 1.4   \n",
              "...                                    ...                 ...   \n",
              "6.7                                    3.0                 5.2   \n",
              "6.3                                    2.5                 5.0   \n",
              "6.5                                    3.0                 5.2   \n",
              "6.2                                    3.4                 5.4   \n",
              "5.9                                    3.0                 5.1   \n",
              "\n",
              "                    DEFICIENCIA_COGNITIVA  TIPO_CATEGORIA_ADM  CODIGO_IES    \n",
              "DEFICIENCIA_FISICA                                                           \n",
              "5.1                                   0.2                   2             0  \n",
              "4.9                                   0.2                   2             0  \n",
              "4.7                                   0.2                   2             0  \n",
              "4.6                                   0.2                   2             0  \n",
              "5.0                                   0.2                   2             0  \n",
              "...                                   ...                 ...           ...  \n",
              "6.7                                   2.3                   0             2  \n",
              "6.3                                   1.9                   0             2  \n",
              "6.5                                   2.0                   0             2  \n",
              "6.2                                   2.3                   0             2  \n",
              "5.9                                   1.8                   0             2  \n",
              "\n",
              "[150 rows x 5 columns]"
            ],
            "text/html": [
              "\n",
              "  <div id=\"df-52f49523-5a73-42c3-bf15-460c6d4a3b9a\">\n",
              "    <div class=\"colab-df-container\">\n",
              "      <div>\n",
              "<style scoped>\n",
              "    .dataframe tbody tr th:only-of-type {\n",
              "        vertical-align: middle;\n",
              "    }\n",
              "\n",
              "    .dataframe tbody tr th {\n",
              "        vertical-align: top;\n",
              "    }\n",
              "\n",
              "    .dataframe thead th {\n",
              "        text-align: right;\n",
              "    }\n",
              "</style>\n",
              "<table border=\"1\" class=\"dataframe\">\n",
              "  <thead>\n",
              "    <tr style=\"text-align: right;\">\n",
              "      <th></th>\n",
              "      <th>DEFICIENCIA_AUDITIVA</th>\n",
              "      <th>DEFICIENCIA_VISUAL</th>\n",
              "      <th>DEFICIENCIA_COGNITIVA</th>\n",
              "      <th>TIPO_CATEGORIA_ADM</th>\n",
              "      <th>CODIGO_IES</th>\n",
              "    </tr>\n",
              "    <tr>\n",
              "      <th>DEFICIENCIA_FISICA</th>\n",
              "      <th></th>\n",
              "      <th></th>\n",
              "      <th></th>\n",
              "      <th></th>\n",
              "      <th></th>\n",
              "    </tr>\n",
              "  </thead>\n",
              "  <tbody>\n",
              "    <tr>\n",
              "      <th>5.1</th>\n",
              "      <td>3.5</td>\n",
              "      <td>1.4</td>\n",
              "      <td>0.2</td>\n",
              "      <td>2</td>\n",
              "      <td>0</td>\n",
              "    </tr>\n",
              "    <tr>\n",
              "      <th>4.9</th>\n",
              "      <td>3.0</td>\n",
              "      <td>1.4</td>\n",
              "      <td>0.2</td>\n",
              "      <td>2</td>\n",
              "      <td>0</td>\n",
              "    </tr>\n",
              "    <tr>\n",
              "      <th>4.7</th>\n",
              "      <td>3.2</td>\n",
              "      <td>1.3</td>\n",
              "      <td>0.2</td>\n",
              "      <td>2</td>\n",
              "      <td>0</td>\n",
              "    </tr>\n",
              "    <tr>\n",
              "      <th>4.6</th>\n",
              "      <td>3.1</td>\n",
              "      <td>1.5</td>\n",
              "      <td>0.2</td>\n",
              "      <td>2</td>\n",
              "      <td>0</td>\n",
              "    </tr>\n",
              "    <tr>\n",
              "      <th>5.0</th>\n",
              "      <td>3.6</td>\n",
              "      <td>1.4</td>\n",
              "      <td>0.2</td>\n",
              "      <td>2</td>\n",
              "      <td>0</td>\n",
              "    </tr>\n",
              "    <tr>\n",
              "      <th>...</th>\n",
              "      <td>...</td>\n",
              "      <td>...</td>\n",
              "      <td>...</td>\n",
              "      <td>...</td>\n",
              "      <td>...</td>\n",
              "    </tr>\n",
              "    <tr>\n",
              "      <th>6.7</th>\n",
              "      <td>3.0</td>\n",
              "      <td>5.2</td>\n",
              "      <td>2.3</td>\n",
              "      <td>0</td>\n",
              "      <td>2</td>\n",
              "    </tr>\n",
              "    <tr>\n",
              "      <th>6.3</th>\n",
              "      <td>2.5</td>\n",
              "      <td>5.0</td>\n",
              "      <td>1.9</td>\n",
              "      <td>0</td>\n",
              "      <td>2</td>\n",
              "    </tr>\n",
              "    <tr>\n",
              "      <th>6.5</th>\n",
              "      <td>3.0</td>\n",
              "      <td>5.2</td>\n",
              "      <td>2.0</td>\n",
              "      <td>0</td>\n",
              "      <td>2</td>\n",
              "    </tr>\n",
              "    <tr>\n",
              "      <th>6.2</th>\n",
              "      <td>3.4</td>\n",
              "      <td>5.4</td>\n",
              "      <td>2.3</td>\n",
              "      <td>0</td>\n",
              "      <td>2</td>\n",
              "    </tr>\n",
              "    <tr>\n",
              "      <th>5.9</th>\n",
              "      <td>3.0</td>\n",
              "      <td>5.1</td>\n",
              "      <td>1.8</td>\n",
              "      <td>0</td>\n",
              "      <td>2</td>\n",
              "    </tr>\n",
              "  </tbody>\n",
              "</table>\n",
              "<p>150 rows × 5 columns</p>\n",
              "</div>\n",
              "      <button class=\"colab-df-convert\" onclick=\"convertToInteractive('df-52f49523-5a73-42c3-bf15-460c6d4a3b9a')\"\n",
              "              title=\"Convert this dataframe to an interactive table.\"\n",
              "              style=\"display:none;\">\n",
              "        \n",
              "  <svg xmlns=\"http://www.w3.org/2000/svg\" height=\"24px\"viewBox=\"0 0 24 24\"\n",
              "       width=\"24px\">\n",
              "    <path d=\"M0 0h24v24H0V0z\" fill=\"none\"/>\n",
              "    <path d=\"M18.56 5.44l.94 2.06.94-2.06 2.06-.94-2.06-.94-.94-2.06-.94 2.06-2.06.94zm-11 1L8.5 8.5l.94-2.06 2.06-.94-2.06-.94L8.5 2.5l-.94 2.06-2.06.94zm10 10l.94 2.06.94-2.06 2.06-.94-2.06-.94-.94-2.06-.94 2.06-2.06.94z\"/><path d=\"M17.41 7.96l-1.37-1.37c-.4-.4-.92-.59-1.43-.59-.52 0-1.04.2-1.43.59L10.3 9.45l-7.72 7.72c-.78.78-.78 2.05 0 2.83L4 21.41c.39.39.9.59 1.41.59.51 0 1.02-.2 1.41-.59l7.78-7.78 2.81-2.81c.8-.78.8-2.07 0-2.86zM5.41 20L4 18.59l7.72-7.72 1.47 1.35L5.41 20z\"/>\n",
              "  </svg>\n",
              "      </button>\n",
              "      \n",
              "  <style>\n",
              "    .colab-df-container {\n",
              "      display:flex;\n",
              "      flex-wrap:wrap;\n",
              "      gap: 12px;\n",
              "    }\n",
              "\n",
              "    .colab-df-convert {\n",
              "      background-color: #E8F0FE;\n",
              "      border: none;\n",
              "      border-radius: 50%;\n",
              "      cursor: pointer;\n",
              "      display: none;\n",
              "      fill: #1967D2;\n",
              "      height: 32px;\n",
              "      padding: 0 0 0 0;\n",
              "      width: 32px;\n",
              "    }\n",
              "\n",
              "    .colab-df-convert:hover {\n",
              "      background-color: #E2EBFA;\n",
              "      box-shadow: 0px 1px 2px rgba(60, 64, 67, 0.3), 0px 1px 3px 1px rgba(60, 64, 67, 0.15);\n",
              "      fill: #174EA6;\n",
              "    }\n",
              "\n",
              "    [theme=dark] .colab-df-convert {\n",
              "      background-color: #3B4455;\n",
              "      fill: #D2E3FC;\n",
              "    }\n",
              "\n",
              "    [theme=dark] .colab-df-convert:hover {\n",
              "      background-color: #434B5C;\n",
              "      box-shadow: 0px 1px 3px 1px rgba(0, 0, 0, 0.15);\n",
              "      filter: drop-shadow(0px 1px 2px rgba(0, 0, 0, 0.3));\n",
              "      fill: #FFFFFF;\n",
              "    }\n",
              "  </style>\n",
              "\n",
              "      <script>\n",
              "        const buttonEl =\n",
              "          document.querySelector('#df-52f49523-5a73-42c3-bf15-460c6d4a3b9a button.colab-df-convert');\n",
              "        buttonEl.style.display =\n",
              "          google.colab.kernel.accessAllowed ? 'block' : 'none';\n",
              "\n",
              "        async function convertToInteractive(key) {\n",
              "          const element = document.querySelector('#df-52f49523-5a73-42c3-bf15-460c6d4a3b9a');\n",
              "          const dataTable =\n",
              "            await google.colab.kernel.invokeFunction('convertToInteractive',\n",
              "                                                     [key], {});\n",
              "          if (!dataTable) return;\n",
              "\n",
              "          const docLinkHtml = 'Like what you see? Visit the ' +\n",
              "            '<a target=\"_blank\" href=https://colab.research.google.com/notebooks/data_table.ipynb>data table notebook</a>'\n",
              "            + ' to learn more about interactive tables.';\n",
              "          element.innerHTML = '';\n",
              "          dataTable['output_type'] = 'display_data';\n",
              "          await google.colab.output.renderOutput(dataTable, element);\n",
              "          const docLink = document.createElement('div');\n",
              "          docLink.innerHTML = docLinkHtml;\n",
              "          element.appendChild(docLink);\n",
              "        }\n",
              "      </script>\n",
              "    </div>\n",
              "  </div>\n",
              "  "
            ]
          },
          "metadata": {},
          "execution_count": 45
        }
      ]
    },
    {
      "cell_type": "code",
      "source": [
        "#svm_ies.fillna(0, inplace=True)\n",
        "#svm_ies.head(2)"
      ],
      "metadata": {
        "id": "35Fh8msb3GgF"
      },
      "execution_count": null,
      "outputs": []
    },
    {
      "cell_type": "code",
      "source": [
        "\n",
        "#svm_ies1 = pd.DataFrame(svm_ies, columns=['CODIGO_IES'])\n",
        "#svm_ies1['CODIGO_IES'] = svm_ies1.index\n",
        "#svm_ies1.index = range(len(svm_ies1))\n",
        "#svm_ies1.head()"
      ],
      "metadata": {
        "id": "n8ei5IEnt8up"
      },
      "execution_count": null,
      "outputs": []
    },
    {
      "cell_type": "code",
      "execution_count": null,
      "metadata": {
        "colab": {
          "base_uri": "https://localhost:8080/",
          "height": 344
        },
        "id": "NbrXTpi_-PFT",
        "outputId": "54fa86f9-613d-454d-fe3f-f8c0d8b94b78"
      },
      "outputs": [
        {
          "output_type": "execute_result",
          "data": {
            "text/plain": [
              "       DEFICIENCIA_AUDITIVA    DEFICIENCIA_VISUAL  DEFICIENCIA_COGNITIVA  \\\n",
              "count              150.000000          150.000000             150.000000   \n",
              "mean                 3.054000            3.758667               1.198667   \n",
              "std                  0.433594            1.764420               0.763161   \n",
              "min                  2.000000            1.000000               0.100000   \n",
              "25%                  2.800000            1.600000               0.300000   \n",
              "50%                  3.000000            4.350000               1.300000   \n",
              "75%                  3.300000            5.100000               1.800000   \n",
              "max                  4.400000            6.900000               2.500000   \n",
              "\n",
              "       TIPO_CATEGORIA_ADM  CODIGO_IES    \n",
              "count          150.000000    150.000000  \n",
              "mean             1.000000      1.000000  \n",
              "std              0.819232      0.819232  \n",
              "min              0.000000      0.000000  \n",
              "25%              0.000000      0.000000  \n",
              "50%              1.000000      1.000000  \n",
              "75%              2.000000      2.000000  \n",
              "max              2.000000      2.000000  "
            ],
            "text/html": [
              "\n",
              "  <div id=\"df-d0a41e86-f243-43d8-bd1a-c713d1ac7f92\">\n",
              "    <div class=\"colab-df-container\">\n",
              "      <div>\n",
              "<style scoped>\n",
              "    .dataframe tbody tr th:only-of-type {\n",
              "        vertical-align: middle;\n",
              "    }\n",
              "\n",
              "    .dataframe tbody tr th {\n",
              "        vertical-align: top;\n",
              "    }\n",
              "\n",
              "    .dataframe thead th {\n",
              "        text-align: right;\n",
              "    }\n",
              "</style>\n",
              "<table border=\"1\" class=\"dataframe\">\n",
              "  <thead>\n",
              "    <tr style=\"text-align: right;\">\n",
              "      <th></th>\n",
              "      <th>DEFICIENCIA_AUDITIVA</th>\n",
              "      <th>DEFICIENCIA_VISUAL</th>\n",
              "      <th>DEFICIENCIA_COGNITIVA</th>\n",
              "      <th>TIPO_CATEGORIA_ADM</th>\n",
              "      <th>CODIGO_IES</th>\n",
              "    </tr>\n",
              "  </thead>\n",
              "  <tbody>\n",
              "    <tr>\n",
              "      <th>count</th>\n",
              "      <td>150.000000</td>\n",
              "      <td>150.000000</td>\n",
              "      <td>150.000000</td>\n",
              "      <td>150.000000</td>\n",
              "      <td>150.000000</td>\n",
              "    </tr>\n",
              "    <tr>\n",
              "      <th>mean</th>\n",
              "      <td>3.054000</td>\n",
              "      <td>3.758667</td>\n",
              "      <td>1.198667</td>\n",
              "      <td>1.000000</td>\n",
              "      <td>1.000000</td>\n",
              "    </tr>\n",
              "    <tr>\n",
              "      <th>std</th>\n",
              "      <td>0.433594</td>\n",
              "      <td>1.764420</td>\n",
              "      <td>0.763161</td>\n",
              "      <td>0.819232</td>\n",
              "      <td>0.819232</td>\n",
              "    </tr>\n",
              "    <tr>\n",
              "      <th>min</th>\n",
              "      <td>2.000000</td>\n",
              "      <td>1.000000</td>\n",
              "      <td>0.100000</td>\n",
              "      <td>0.000000</td>\n",
              "      <td>0.000000</td>\n",
              "    </tr>\n",
              "    <tr>\n",
              "      <th>25%</th>\n",
              "      <td>2.800000</td>\n",
              "      <td>1.600000</td>\n",
              "      <td>0.300000</td>\n",
              "      <td>0.000000</td>\n",
              "      <td>0.000000</td>\n",
              "    </tr>\n",
              "    <tr>\n",
              "      <th>50%</th>\n",
              "      <td>3.000000</td>\n",
              "      <td>4.350000</td>\n",
              "      <td>1.300000</td>\n",
              "      <td>1.000000</td>\n",
              "      <td>1.000000</td>\n",
              "    </tr>\n",
              "    <tr>\n",
              "      <th>75%</th>\n",
              "      <td>3.300000</td>\n",
              "      <td>5.100000</td>\n",
              "      <td>1.800000</td>\n",
              "      <td>2.000000</td>\n",
              "      <td>2.000000</td>\n",
              "    </tr>\n",
              "    <tr>\n",
              "      <th>max</th>\n",
              "      <td>4.400000</td>\n",
              "      <td>6.900000</td>\n",
              "      <td>2.500000</td>\n",
              "      <td>2.000000</td>\n",
              "      <td>2.000000</td>\n",
              "    </tr>\n",
              "  </tbody>\n",
              "</table>\n",
              "</div>\n",
              "      <button class=\"colab-df-convert\" onclick=\"convertToInteractive('df-d0a41e86-f243-43d8-bd1a-c713d1ac7f92')\"\n",
              "              title=\"Convert this dataframe to an interactive table.\"\n",
              "              style=\"display:none;\">\n",
              "        \n",
              "  <svg xmlns=\"http://www.w3.org/2000/svg\" height=\"24px\"viewBox=\"0 0 24 24\"\n",
              "       width=\"24px\">\n",
              "    <path d=\"M0 0h24v24H0V0z\" fill=\"none\"/>\n",
              "    <path d=\"M18.56 5.44l.94 2.06.94-2.06 2.06-.94-2.06-.94-.94-2.06-.94 2.06-2.06.94zm-11 1L8.5 8.5l.94-2.06 2.06-.94-2.06-.94L8.5 2.5l-.94 2.06-2.06.94zm10 10l.94 2.06.94-2.06 2.06-.94-2.06-.94-.94-2.06-.94 2.06-2.06.94z\"/><path d=\"M17.41 7.96l-1.37-1.37c-.4-.4-.92-.59-1.43-.59-.52 0-1.04.2-1.43.59L10.3 9.45l-7.72 7.72c-.78.78-.78 2.05 0 2.83L4 21.41c.39.39.9.59 1.41.59.51 0 1.02-.2 1.41-.59l7.78-7.78 2.81-2.81c.8-.78.8-2.07 0-2.86zM5.41 20L4 18.59l7.72-7.72 1.47 1.35L5.41 20z\"/>\n",
              "  </svg>\n",
              "      </button>\n",
              "      \n",
              "  <style>\n",
              "    .colab-df-container {\n",
              "      display:flex;\n",
              "      flex-wrap:wrap;\n",
              "      gap: 12px;\n",
              "    }\n",
              "\n",
              "    .colab-df-convert {\n",
              "      background-color: #E8F0FE;\n",
              "      border: none;\n",
              "      border-radius: 50%;\n",
              "      cursor: pointer;\n",
              "      display: none;\n",
              "      fill: #1967D2;\n",
              "      height: 32px;\n",
              "      padding: 0 0 0 0;\n",
              "      width: 32px;\n",
              "    }\n",
              "\n",
              "    .colab-df-convert:hover {\n",
              "      background-color: #E2EBFA;\n",
              "      box-shadow: 0px 1px 2px rgba(60, 64, 67, 0.3), 0px 1px 3px 1px rgba(60, 64, 67, 0.15);\n",
              "      fill: #174EA6;\n",
              "    }\n",
              "\n",
              "    [theme=dark] .colab-df-convert {\n",
              "      background-color: #3B4455;\n",
              "      fill: #D2E3FC;\n",
              "    }\n",
              "\n",
              "    [theme=dark] .colab-df-convert:hover {\n",
              "      background-color: #434B5C;\n",
              "      box-shadow: 0px 1px 3px 1px rgba(0, 0, 0, 0.15);\n",
              "      filter: drop-shadow(0px 1px 2px rgba(0, 0, 0, 0.3));\n",
              "      fill: #FFFFFF;\n",
              "    }\n",
              "  </style>\n",
              "\n",
              "      <script>\n",
              "        const buttonEl =\n",
              "          document.querySelector('#df-d0a41e86-f243-43d8-bd1a-c713d1ac7f92 button.colab-df-convert');\n",
              "        buttonEl.style.display =\n",
              "          google.colab.kernel.accessAllowed ? 'block' : 'none';\n",
              "\n",
              "        async function convertToInteractive(key) {\n",
              "          const element = document.querySelector('#df-d0a41e86-f243-43d8-bd1a-c713d1ac7f92');\n",
              "          const dataTable =\n",
              "            await google.colab.kernel.invokeFunction('convertToInteractive',\n",
              "                                                     [key], {});\n",
              "          if (!dataTable) return;\n",
              "\n",
              "          const docLinkHtml = 'Like what you see? Visit the ' +\n",
              "            '<a target=\"_blank\" href=https://colab.research.google.com/notebooks/data_table.ipynb>data table notebook</a>'\n",
              "            + ' to learn more about interactive tables.';\n",
              "          element.innerHTML = '';\n",
              "          dataTable['output_type'] = 'display_data';\n",
              "          await google.colab.output.renderOutput(dataTable, element);\n",
              "          const docLink = document.createElement('div');\n",
              "          docLink.innerHTML = docLinkHtml;\n",
              "          element.appendChild(docLink);\n",
              "        }\n",
              "      </script>\n",
              "    </div>\n",
              "  </div>\n",
              "  "
            ]
          },
          "metadata": {},
          "execution_count": 46
        }
      ],
      "source": [
        "svm_ies.describe()"
      ]
    },
    {
      "cell_type": "code",
      "execution_count": null,
      "metadata": {
        "colab": {
          "base_uri": "https://localhost:8080/"
        },
        "id": "d0f1txUn-PFV",
        "outputId": "7ef52942-64af-402f-fbba-9e975dc5f920"
      },
      "outputs": [
        {
          "output_type": "stream",
          "name": "stdout",
          "text": [
            "<class 'pandas.core.frame.DataFrame'>\n",
            "Float64Index: 150 entries, 5.1 to 5.9\n",
            "Data columns (total 5 columns):\n",
            " #   Column                  Non-Null Count  Dtype  \n",
            "---  ------                  --------------  -----  \n",
            " 0   DEFICIENCIA_AUDITIVA    150 non-null    float64\n",
            " 1   DEFICIENCIA_VISUAL      150 non-null    float64\n",
            " 2   DEFICIENCIA_COGNITIVA   150 non-null    float64\n",
            " 3   TIPO_CATEGORIA_ADM      150 non-null    int64  \n",
            " 4   CODIGO_IES              150 non-null    int64  \n",
            "dtypes: float64(3), int64(2)\n",
            "memory usage: 7.0 KB\n"
          ]
        }
      ],
      "source": [
        "svm_ies.info()"
      ]
    },
    {
      "cell_type": "code",
      "execution_count": null,
      "metadata": {
        "id": "-HJY72Nt-PFW"
      },
      "outputs": [],
      "source": [
        "codigo_ies = svm_ies.pop('TIPO_CATEGORIA_ADM')"
      ]
    },
    {
      "cell_type": "code",
      "execution_count": null,
      "metadata": {
        "colab": {
          "base_uri": "https://localhost:8080/"
        },
        "id": "iScOB2zg-PFX",
        "outputId": "7a562d31-1ef5-4b18-8a43-271f0210e609"
      },
      "outputs": [
        {
          "output_type": "stream",
          "name": "stdout",
          "text": [
            "Acurácia com cross validation: 100.0\n"
          ]
        }
      ],
      "source": [
        "from sklearn.model_selection import cross_val_score\n",
        "from sklearn.svm import SVC\n",
        "\n",
        "svc = SVC(gamma=\"auto\")\n",
        "\n",
        "cv_result = cross_val_score(svc, svm_ies,codigo_ies, cv=10, scoring=\"accuracy\")\n",
        "print(\"Acurácia com cross validation:\", cv_result.mean()*100)"
      ]
    },
    {
      "cell_type": "code",
      "source": [
        "#svm_ies.fillna(, inplace=True)\n",
        "#svm_ies.head(2)"
      ],
      "metadata": {
        "id": "2pEvMwjqdLKr"
      },
      "execution_count": null,
      "outputs": []
    },
    {
      "cell_type": "code",
      "execution_count": null,
      "metadata": {
        "colab": {
          "base_uri": "https://localhost:8080/"
        },
        "id": "7BCUfRaq-PFY",
        "outputId": "c36dfe73-5de5-4460-92b0-1dcf4bdf4a0f"
      },
      "outputs": [
        {
          "output_type": "stream",
          "name": "stderr",
          "text": [
            "/usr/local/lib/python3.7/dist-packages/sklearn/base.py:451: UserWarning: X does not have valid feature names, but SVC was fitted with feature names\n",
            "  \"X does not have valid feature names, but\"\n"
          ]
        },
        {
          "output_type": "execute_result",
          "data": {
            "text/plain": [
              "array([0])"
            ]
          },
          "metadata": {},
          "execution_count": 52
        }
      ],
      "source": [
        "svc.fit(svm_ies, codigo_ies)\n",
        "svc.predict([[6.9,2.8,6.1,2.3]])"
      ]
    },
    {
      "cell_type": "code",
      "execution_count": null,
      "metadata": {
        "scrolled": true,
        "colab": {
          "base_uri": "https://localhost:8080/",
          "height": 298
        },
        "id": "u-nNM2e7-PFZ",
        "outputId": "07e61ee4-5eb3-484f-a10b-d30a013a33ab"
      },
      "outputs": [
        {
          "output_type": "execute_result",
          "data": {
            "text/plain": [
              "Text(0.5, 1.0, 'SVM')"
            ]
          },
          "metadata": {},
          "execution_count": 54
        },
        {
          "output_type": "display_data",
          "data": {
            "text/plain": [
              "<Figure size 432x288 with 1 Axes>"
            ],
            "image/png": "[encoded data removed]"
          },
          "metadata": {
            "needs_background": "light"
          }
        }
      ],
      "source": [
        "plt.scatter(svm_ies['DEFICIENCIA_VISUAL'], svm_ies['DEFICIENCIA_COGNITIVA'], c=codigo_ies)\n",
        "plt.title('SVM')"
      ]
    },
    {
      "cell_type": "code",
      "execution_count": null,
      "metadata": {
        "colab": {
          "base_uri": "https://localhost:8080/",
          "height": 336
        },
        "id": "bFTt88Hz-PFa",
        "outputId": "5a086b31-564b-41e4-cfc4-4327355f87fb"
      },
      "outputs": [
        {
          "output_type": "stream",
          "name": "stderr",
          "text": [
            "/usr/local/lib/python3.7/dist-packages/sklearn/base.py:451: UserWarning: X does not have valid feature names, but SVC was fitted with feature names\n",
            "  \"X does not have valid feature names, but\"\n"
          ]
        },
        {
          "output_type": "display_data",
          "data": {
            "text/plain": [
              "<Figure size 432x288 with 1 Axes>"
            ],
            "image/png": "[encoded data removed]"
          },
          "metadata": {
            "needs_background": "light"
          }
        }
      ],
      "source": [
        "#Provavelmente criando duas features novas no svm_ies o svm com 2 features terá mais sucesso, mas por enquanto usei só\n",
        "#DEFICIENCIA_VISUAL e DEFICIENCIA_COGNITIVA (os mais relevantes das 4 features já existentes)\n",
        "\n",
        "x0_min, x0_max = svm_ies['DEFICIENCIA_VISUAL'].min(), svm_ies['DEFICIENCIA_VISUAL'].max()\n",
        "x1_min, x1_max = svm_ies['DEFICIENCIA_COGNITIVA'].min(), svm_ies['DEFICIENCIA_COGNITIVA'].max()\n",
        "w = x0_max - x0_min\n",
        "h = x1_max - x1_min\n",
        "x0, x1 = np.meshgrid(np.linspace(x0_min-.1*w, x0_max+.1*w, 300),\n",
        "                         np.linspace(x1_min-.1*h, x1_max+.1*h, 300))\n",
        "\n",
        "svc.fit(svm_ies[['DEFICIENCIA_VISUAL', 'DEFICIENCIA_COGNITIVA']], codigo_ies)\n",
        "ypred = svc.predict(np.c_[x0.reshape(-1, 1), x1.reshape(-1, 1)])\n",
        "ypred = ypred.reshape(x0.shape)\n",
        "        \n",
        "plt.contourf(x0, x1, ypred)\n",
        "plt.scatter(svm_ies['DEFICIENCIA_VISUAL'], svm_ies['DEFICIENCIA_COGNITIVA'], c=codigo_ies, s=64, edgecolors='k')\n",
        "plt.title('SVM')\n",
        "plt.show()"
      ]
    },
    {
      "cell_type": "code",
      "execution_count": null,
      "metadata": {
        "id": "bv4HFh2O-PFc"
      },
      "outputs": [],
      "source": [
        ""
      ]
    }
  ],
  "metadata": {
    "kernelspec": {
      "display_name": "Python 3",
      "language": "python",
      "name": "python3"
    },
    "language_info": {
      "codemirror_mode": {
        "name": "ipython",
        "version": 3
      },
      "file_extension": ".py",
      "mimetype": "text/x-python",
      "name": "python",
      "nbconvert_exporter": "python",
      "pygments_lexer": "ipython3",
      "version": "3.7.3"
    },
    "colab": {
      "name": "SVM_predicao_Necessidade_Especial.ipynb",
      "provenance": []
    }
  },
  "nbformat": 4,
  "nbformat_minor": 0
}